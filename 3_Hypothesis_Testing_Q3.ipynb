{
  "nbformat": 4,
  "nbformat_minor": 0,
  "metadata": {
    "colab": {
      "provenance": []
    },
    "kernelspec": {
      "name": "python3",
      "display_name": "Python 3"
    },
    "language_info": {
      "name": "python"
    }
  },
  "cells": [
    {
      "cell_type": "code",
      "execution_count": 2,
      "metadata": {
        "id": "0KHdTXGU1Sg7"
      },
      "outputs": [],
      "source": [
        "#import the libraries\n",
        "import pandas as pd\n",
        "import scipy \n",
        "import numpy as np\n",
        "from scipy import stats"
      ]
    },
    {
      "cell_type": "code",
      "source": [
        "import numpy as np\n",
        "from scipy.stats import chi2_contingency"
      ],
      "metadata": {
        "id": "63SsR9PZ1vA7"
      },
      "execution_count": 3,
      "outputs": []
    },
    {
      "cell_type": "code",
      "source": [
        "# Make 3-dimentional Array\n",
        "obs=np.array([[50,142,131,70],[550,351,480,350]])\n",
        "obs"
      ],
      "metadata": {
        "colab": {
          "base_uri": "https://localhost:8080/"
        },
        "id": "mRGMH87310Mz",
        "outputId": "9775aa6f-56c1-4674-ade5-3bc532ccd34f"
      },
      "execution_count": 4,
      "outputs": [
        {
          "output_type": "execute_result",
          "data": {
            "text/plain": [
              "array([[ 50, 142, 131,  70],\n",
              "       [550, 351, 480, 350]])"
            ]
          },
          "metadata": {},
          "execution_count": 4
        }
      ]
    },
    {
      "cell_type": "code",
      "source": [
        "# Chi2 contingency stats\n",
        "chi2_contingency(obs)  # o/p is (Chi2 stats value, p_value, df, expected obsvations)"
      ],
      "metadata": {
        "colab": {
          "base_uri": "https://localhost:8080/"
        },
        "id": "gOxwdQQ814Fg",
        "outputId": "0d77a37d-af41-4ad3-df02-eb7a86f65fac"
      },
      "execution_count": 5,
      "outputs": [
        {
          "output_type": "execute_result",
          "data": {
            "text/plain": [
              "Chi2ContingencyResult(statistic=80.27295426602495, pvalue=2.682172557281901e-17, dof=3, expected_freq=array([[111.01694915,  91.21892655, 113.05225989,  77.71186441],\n",
              "       [488.98305085, 401.78107345, 497.94774011, 342.28813559]]))"
            ]
          },
          "metadata": {},
          "execution_count": 5
        }
      ]
    },
    {
      "cell_type": "code",
      "source": [
        "#here P value is less than alpa value reject the null hypothesis"
      ],
      "metadata": {
        "id": "vnEFRn-R2ktW"
      },
      "execution_count": null,
      "outputs": []
    }
  ]
}